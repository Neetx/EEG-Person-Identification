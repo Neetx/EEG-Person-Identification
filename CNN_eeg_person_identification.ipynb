{
 "cells": [
  {
   "cell_type": "code",
   "execution_count": null,
   "metadata": {
    "colab": {
     "base_uri": "https://localhost:8080/"
    },
    "id": "BDD2EUdiCeSh",
    "outputId": "20ac3268-5454-4074-e077-9cb4f09f79d6"
   },
   "outputs": [
    {
     "name": "stdout",
     "output_type": "stream",
     "text": [
      "Drive already mounted at /content/gdrive; to attempt to forcibly remount, call drive.mount(\"/content/gdrive\", force_remount=True).\n"
     ]
    }
   ],
   "source": [
    "from google.colab import drive\n",
    "drive.mount('/content/gdrive') #, force_remount=True)"
   ]
  },
  {
   "cell_type": "code",
   "execution_count": null,
   "metadata": {
    "colab": {
     "base_uri": "https://localhost:8080/"
    },
    "id": "Q6PqwNIyDCP3",
    "outputId": "7cfa33e7-eb3c-4714-dd7b-ef9c99ff39be"
   },
   "outputs": [
    {
     "name": "stdout",
     "output_type": "stream",
     "text": [
      "Collecting git+https://github.com/holgern/pyedflib.git\n",
      "  Cloning https://github.com/holgern/pyedflib.git to /tmp/pip-req-build-l8cij5kp\n",
      "  Running command git clone -q https://github.com/holgern/pyedflib.git /tmp/pip-req-build-l8cij5kp\n",
      "  Installing build dependencies ... \u001b[?25l\u001b[?25hdone\n",
      "  Getting requirements to build wheel ... \u001b[?25l\u001b[?25hdone\n",
      "    Preparing wheel metadata ... \u001b[?25l\u001b[?25hdone\n",
      "Requirement already satisfied: numpy>=1.9.1 in /usr/local/lib/python3.7/dist-packages (from pyEDFlib==0.1.24.dev0+039c230) (1.19.5)\n",
      "Building wheels for collected packages: pyEDFlib\n",
      "  Building wheel for pyEDFlib (PEP 517) ... \u001b[?25l\u001b[?25hdone\n",
      "  Created wheel for pyEDFlib: filename=pyEDFlib-0.1.24.dev0+039c230-cp37-cp37m-linux_x86_64.whl size=1527185 sha256=2ee74f86a42ef279b412a8fb863cf9d04c1daa120b0ca81d67b809d10d5d1830\n",
      "  Stored in directory: /tmp/pip-ephem-wheel-cache-hxhfuc9p/wheels/40/ca/9e/ac89f25e7cfde87119c99fab893236fb4907cf2ab6d84ac51e\n",
      "Successfully built pyEDFlib\n",
      "Installing collected packages: pyEDFlib\n",
      "Successfully installed pyEDFlib-0.1.24.dev0+039c230\n"
     ]
    }
   ],
   "source": [
    "!pip install git+https://github.com/holgern/pyedflib.git"
   ]
  },
  {
   "cell_type": "code",
   "execution_count": null,
   "metadata": {
    "id": "iwsmg6B9BWaZ"
   },
   "outputs": [],
   "source": [
    "\n",
    "import tensorflow as tf\n",
    "from tensorflow.keras import datasets, layers, models\n",
    "import matplotlib.pyplot as plt\n",
    "import numpy as np\n",
    "import h5py\n",
    "import pyedflib\n",
    "from tqdm import tqdm\n",
    "import time"
   ]
  },
  {
   "cell_type": "code",
   "execution_count": null,
   "metadata": {
    "id": "yJXTj8REBssT"
   },
   "outputs": [],
   "source": [
    "def CNN():\n",
    "    input_shape = (160, 64)\n",
    "\n",
    "    model = models.Sequential()\n",
    "\n",
    "    model.add(layers.BatchNormalization(input_shape=input_shape, epsilon=.0001))\n",
    "    \n",
    "    model.add(layers.Conv1D(input_shape=input_shape, activation='relu', filters=128, kernel_size=2, strides=1, padding='same'))\n",
    "    model.add(layers.MaxPooling1D(pool_size=2, strides=2, padding='same'))\n",
    "\n",
    "    model.add(layers.Conv1D(input_shape=(80, 128), activation='relu', filters=256, kernel_size=2, strides=1, padding='same'))\n",
    "    model.add(layers.MaxPooling1D(pool_size=2, strides=2, padding='same'))\n",
    "\n",
    "    model.add(layers.Conv1D(input_shape=(40, 256), activation='relu', filters=512, kernel_size=2, strides=1, padding='same'))\n",
    "    model.add(layers.MaxPooling1D(pool_size=2, strides=2, padding='same'))\n",
    "\n",
    "    model.add(layers.Conv1D(input_shape=(20, 512), activation='relu', filters=1024, kernel_size=2, strides=1, padding='same'))\n",
    "    model.add(layers.MaxPooling1D(pool_size=2, strides=2, padding='same'))\n",
    "\n",
    "    model.add(layers.Reshape((-1, 64*160), input_shape=(80, 10, 1024)))\n",
    "    #model.add(layers.Reshape((-1, 64*160)))\n",
    "    model.add(layers.Dropout(rate=0.5, input_shape=(80, 10240))) #0.5 is keep_prob\n",
    "    #model.add(layers.Dropout(0.5)) #0.5 is keep_prob\n",
    "    \n",
    "    model.add(tf.keras.layers.Dense(109, activation='softmax'))\n",
    "\n",
    "    model.summary()\n",
    "    return model"
   ]
  },
  {
   "cell_type": "code",
   "execution_count": null,
   "metadata": {
    "id": "vtAWR4nEBzJ4"
   },
   "outputs": [],
   "source": [
    "def _read_py_function(filename):\n",
    "    #print(filename.numpy().decode())\n",
    "    f = pyedflib.EdfReader(filename.numpy().decode())\n",
    "    n_channels = f.signals_in_file\n",
    "    channels = f.getSignalLabels()\n",
    "    eeg_data = np.zeros((n_channels, f.getNSamples()[0]), dtype=np.float32)\n",
    "    for i in np.arange(n_channels):\n",
    "        eeg_data[i, :] = f.readSignal(i)\n",
    "\n",
    "    n_samples = f.getNSamples()[0]\n",
    "    reminder = int(n_samples % 160)\n",
    "    n_samples -= reminder\n",
    "    seconds = int(n_samples/160) #160 is frequency\n",
    "    \n",
    "    path = filename.numpy().decode().split(\"/\")\n",
    "    person_id = int(path[-1].partition(\"S\")[2].partition(\"R\")[0]) #extract number between S and R\n",
    "    label = np.zeros(109, dtype=bool) #109 classes (persons)\n",
    "    label[person_id-1]=1\n",
    "    labels = np.tile(label, (seconds,1))\n",
    "    \n",
    "    eeg_data = eeg_data.transpose()\n",
    "    if reminder > 0:\n",
    "        eeg_data = eeg_data[:-reminder, :]\n",
    "    intervals = np.linspace(0, n_samples, num=seconds, endpoint=False, dtype=int)\n",
    "    eeg_data = np.split(eeg_data, intervals) #return a list, remove the first empty \n",
    "    del eeg_data[0]\n",
    "    eeg_data = np.array(eeg_data)   #shape = (seconds, frequency, n_channels)\n",
    "\n",
    "    return eeg_data, labels"
   ]
  },
  {
   "cell_type": "code",
   "execution_count": null,
   "metadata": {
    "id": "zuYEnL4NvKO2"
   },
   "outputs": [],
   "source": [
    "def get_dataset(train=True):\n",
    "    path = \"/content/gdrive/MyDrive/eeg_person_identification/eeg-motor-movementimagery-dataset-1.0.0/files/\"\n",
    "    if input==\"train\":\n",
    "        dataset = tf.data.Dataset.list_files(path + \"S*\\S*R01.edf\")\n",
    "        for i in range(2, 13):\n",
    "            nth_record = tf.data.Dataset.list_files(path + \"S*\\S*R\" + \"{:02d}\".format(i) + \".edf\")\n",
    "            dataset = dataset.concatenate(nth_record)\n",
    "    elif input==\"test\":\n",
    "        dataset = tf.data.Dataset.list_files(path + \"S*\\S*R13.edf\")\n",
    "    elif input==\"validation\":\n",
    "        dataset = tf.data.Dataset.list_files(path + \"S*\\S*R14.edf\")\n",
    "\n",
    "    length = len(list(dataset.as_numpy_iterator()))\n",
    "    train_data = list()\n",
    "    labels = list()\n",
    "    \n",
    "    #index = 0\n",
    "    with tqdm(total=length) as pbar:\n",
    "        for filename in dataset:\n",
    "            eeg_data, label = _read_py_function(filename)\n",
    "            train_data.append(eeg_data)\n",
    "            label = np.expand_dims(label, axis=1)\n",
    "            labels.append(label)\n",
    "            #index += 1\n",
    "            #if index == 10:\n",
    "            #  break\n",
    "            pbar.update(1)\n",
    "    print(\"Loaded\")\n",
    "    \n",
    "    return train_data, labels"
   ]
  },
  {
   "cell_type": "code",
   "execution_count": null,
   "metadata": {
    "colab": {
     "base_uri": "https://localhost:8080/"
    },
    "id": "BytKdxIrrOWk",
    "outputId": "b2817ac6-fd21-4aff-c11d-728067b77062"
   },
   "outputs": [
    {
     "name": "stderr",
     "output_type": "stream",
     "text": [
      "100%|██████████| 1090/1090 [01:46<00:00, 10.22it/s]"
     ]
    },
    {
     "name": "stdout",
     "output_type": "stream",
     "text": [
      "Loaded\n"
     ]
    },
    {
     "name": "stderr",
     "output_type": "stream",
     "text": [
      "\n"
     ]
    }
   ],
   "source": [
    "training_dataset, training_labels = get_dataset(train=True)"
   ]
  },
  {
   "cell_type": "code",
   "execution_count": null,
   "metadata": {
    "id": "WP_KEPqVz482"
   },
   "outputs": [],
   "source": [
    "train_data = np.empty([1, 160, 64], dtype=np.float32)\n",
    "train_data = np.vstack(training_dataset)\n",
    "del(training_dataset)\n",
    "\n",
    "train_label = np.empty([1, 1, 109], dtype=bool)\n",
    "train_label = np.vstack(training_labels)\n",
    "del(training_labels)"
   ]
  },
  {
   "cell_type": "code",
   "execution_count": null,
   "metadata": {
    "colab": {
     "base_uri": "https://localhost:8080/"
    },
    "id": "xOUhk_LaxQWQ",
    "outputId": "9526921d-4bb8-4335-faf1-b1dd8a0ef281"
   },
   "outputs": [
    {
     "name": "stderr",
     "output_type": "stream",
     "text": [
      "100%|██████████| 436/436 [01:21<00:00,  5.32it/s]"
     ]
    },
    {
     "name": "stdout",
     "output_type": "stream",
     "text": [
      "Loaded\n"
     ]
    },
    {
     "name": "stderr",
     "output_type": "stream",
     "text": [
      "\n"
     ]
    }
   ],
   "source": [
    "testing_dataset, testing_labels = get_dataset(train=False)"
   ]
  },
  {
   "cell_type": "code",
   "execution_count": null,
   "metadata": {
    "id": "KrKF4TFEF560"
   },
   "outputs": [],
   "source": [
    "test_data = np.empty([1, 160, 64], dtype=np.float32)\n",
    "test_data = np.vstack(testing_dataset)\n",
    "del(testing_dataset)\n",
    "\n",
    "test_label = np.empty([1, 1, 109], dtype=bool)\n",
    "test_label = np.vstack(testing_labels)\n",
    "del(testing_labels)"
   ]
  },
  {
   "cell_type": "code",
   "execution_count": null,
   "metadata": {
    "colab": {
     "base_uri": "https://localhost:8080/"
    },
    "id": "8fV-43NvG2_W",
    "outputId": "f591ce10-5a6a-47be-dcab-651fe6bfd381"
   },
   "outputs": [
    {
     "name": "stdout",
     "output_type": "stream",
     "text": [
      "Model: \"sequential_2\"\n",
      "_________________________________________________________________\n",
      "Layer (type)                 Output Shape              Param #   \n",
      "=================================================================\n",
      "batch_normalization_2 (Batch (None, 160, 64)           256       \n",
      "_________________________________________________________________\n",
      "conv1d_8 (Conv1D)            (None, 160, 128)          16512     \n",
      "_________________________________________________________________\n",
      "max_pooling1d_8 (MaxPooling1 (None, 80, 128)           0         \n",
      "_________________________________________________________________\n",
      "conv1d_9 (Conv1D)            (None, 80, 256)           65792     \n",
      "_________________________________________________________________\n",
      "max_pooling1d_9 (MaxPooling1 (None, 40, 256)           0         \n",
      "_________________________________________________________________\n",
      "conv1d_10 (Conv1D)           (None, 40, 512)           262656    \n",
      "_________________________________________________________________\n",
      "max_pooling1d_10 (MaxPooling (None, 20, 512)           0         \n",
      "_________________________________________________________________\n",
      "conv1d_11 (Conv1D)           (None, 20, 1024)          1049600   \n",
      "_________________________________________________________________\n",
      "max_pooling1d_11 (MaxPooling (None, 10, 1024)          0         \n",
      "_________________________________________________________________\n",
      "reshape_2 (Reshape)          (None, 1, 10240)          0         \n",
      "_________________________________________________________________\n",
      "dropout_2 (Dropout)          (None, 1, 10240)          0         \n",
      "_________________________________________________________________\n",
      "dense_2 (Dense)              (None, 1, 109)            1116269   \n",
      "=================================================================\n",
      "Total params: 2,511,085\n",
      "Trainable params: 2,510,957\n",
      "Non-trainable params: 128\n",
      "_________________________________________________________________\n"
     ]
    }
   ],
   "source": [
    "model = CNN()\n",
    "\n",
    "tf.keras.optimizers.Adam(learning_rate=0.00001)\n",
    "\n",
    "model.compile(optimizer='adam',\n",
    "          loss=tf.keras.losses.CategoricalCrossentropy(),\n",
    "          metrics=['accuracy'])"
   ]
  },
  {
   "cell_type": "code",
   "execution_count": null,
   "metadata": {
    "colab": {
     "base_uri": "https://localhost:8080/"
    },
    "id": "GqklXXN6JAHr",
    "outputId": "6f45fa8d-9f18-4a29-ece4-f74d6c85c6fe"
   },
   "outputs": [
    {
     "name": "stdout",
     "output_type": "stream",
     "text": [
      "(120298, 1, 109)\n",
      "(53526, 1, 109)\n"
     ]
    }
   ],
   "source": [
    "print(train_label.shape)\n",
    "print(test_label.shape)"
   ]
  },
  {
   "cell_type": "code",
   "execution_count": null,
   "metadata": {
    "colab": {
     "base_uri": "https://localhost:8080/",
     "height": 207
    },
    "id": "xKx6FV7dl7-k",
    "outputId": "604ecf98-f33c-48cd-f958-d795056d99b2"
   },
   "outputs": [
    {
     "ename": "NameError",
     "evalue": "ignored",
     "output_type": "error",
     "traceback": [
      "\u001b[0;31m---------------------------------------------------------------------------\u001b[0m",
      "\u001b[0;31mNameError\u001b[0m                                 Traceback (most recent call last)",
      "\u001b[0;32m<ipython-input-1-53dc2a11f1b2>\u001b[0m in \u001b[0;36m<module>\u001b[0;34m()\u001b[0m\n\u001b[1;32m      1\u001b[0m \u001b[0mcheckpoint_path\u001b[0m \u001b[0;34m=\u001b[0m \u001b[0;34m\"/content/gdrive/MyDrive/eeg_person_identification/checkpoint_cnn_00001/cp-{epoch:04d}.ckpt\"\u001b[0m\u001b[0;34m\u001b[0m\u001b[0;34m\u001b[0m\u001b[0m\n\u001b[0;32m----> 2\u001b[0;31m cp_callback = tf.keras.callbacks.ModelCheckpoint(filepath=checkpoint_path,\n\u001b[0m\u001b[1;32m      3\u001b[0m                                                  \u001b[0msave_weights_only\u001b[0m\u001b[0;34m=\u001b[0m\u001b[0;32mTrue\u001b[0m\u001b[0;34m,\u001b[0m\u001b[0;34m\u001b[0m\u001b[0;34m\u001b[0m\u001b[0m\n\u001b[1;32m      4\u001b[0m                                                  verbose=1)\n",
      "\u001b[0;31mNameError\u001b[0m: name 'tf' is not defined"
     ]
    }
   ],
   "source": [
    "checkpoint_path = \"/content/gdrive/MyDrive/eeg_person_identification/checkpoint_cnn_00001/cp-{epoch:04d}.ckpt\"\n",
    "cp_callback = tf.keras.callbacks.ModelCheckpoint(filepath=checkpoint_path,\n",
    "                                                 save_weights_only=True,\n",
    "                                                 verbose=1)\n",
    "model.save_weights(checkpoint_path.format(epoch=0))"
   ]
  },
  {
   "cell_type": "code",
   "execution_count": null,
   "metadata": {
    "id": "-2ttjKnzHC3C"
   },
   "outputs": [],
   "source": [
    "with tf.device('/CPU:0'):\n",
    "    history = model.fit(train_data, train_label, epochs=50, validation_data=(test_data, test_label), batch_size = 80,  callbacks=[cp_callback])"
   ]
  },
  {
   "cell_type": "code",
   "execution_count": null,
   "metadata": {
    "colab": {
     "base_uri": "https://localhost:8080/"
    },
    "id": "yW4aDgCFSDAd",
    "outputId": "b8325115-2308-4f03-a0ba-ec6c77a87477"
   },
   "outputs": [
    {
     "name": "stdout",
     "output_type": "stream",
     "text": [
      "/content/gdrive/MyDrive/eeg_person_identification/checkpoint_10-4/cp.ckpt\n"
     ]
    },
    {
     "data": {
      "text/plain": [
       "<tensorflow.python.training.tracking.util.CheckpointLoadStatus at 0x7fc1aa064e50>"
      ]
     },
     "execution_count": 56,
     "metadata": {},
     "output_type": "execute_result"
    }
   ],
   "source": [
    "#use this to load: \n",
    "checkpoint_path = \"/content/gdrive/MyDrive/eeg_person_identification/checkpoint_cnn_00001/\"#cp.ckpt\"\n",
    "latest = tf.train.latest_checkpoint(checkpoint_path) #it takes the folder\n",
    "print(latest)\n",
    "model.load_weights(latest)"
   ]
  },
  {
   "cell_type": "code",
   "execution_count": null,
   "metadata": {
    "id": "AEXoZFpK9tl6"
   },
   "outputs": [],
   "source": [
    "np.save('/content/gdrive/MyDrive/eeg_person_identification/checkpoint_cnn_00001/history.npy',history.history)\n",
    "history = np.load('/content/gdrive/MyDrive/eeg_person_identification/checkpoint_cnn_00001/history.npy',allow_pickle='TRUE').item()"
   ]
  },
  {
   "cell_type": "code",
   "execution_count": null,
   "metadata": {
    "colab": {
     "base_uri": "https://localhost:8080/",
     "height": 53
    },
    "id": "IcLQ8cU9B8AZ",
    "outputId": "1a6c99a0-ba34-47be-a972-79cf9d233c25"
   },
   "outputs": [
    {
     "data": {
      "application/vnd.google.colaboratory.intrinsic+json": {
       "type": "string"
      },
      "text/plain": [
       "\"if type(history) is not dict:\\n    history = history.history\\n\\nplt.plot(history['accuracy'], label='accuracy')\\nplt.plot(history['auc'], label='auc')\\nplt.plot(history['val_accuracy'], label = 'val_accuracy')\\nplt.plot(history['val_auc'], label='val_auc')\\nplt.xlabel('Epoch')\\nplt.ylabel('Accuracy/AUC')\\nplt.ylim([0.5, 1])\\nplt.legend(loc='lower right')\\nplt.show()\""
      ]
     },
     "execution_count": 18,
     "metadata": {},
     "output_type": "execute_result"
    }
   ],
   "source": [
    "if type(history) is not dict:\n",
    "    history = history.history\n",
    "\n",
    "plt.plot(history['accuracy'], label='accuracy')\n",
    "plt.plot(history['auc'], label='auc')\n",
    "plt.plot(history['val_accuracy'], label = 'val_accuracy')\n",
    "plt.plot(history['val_auc'], label='val_auc')\n",
    "plt.xlabel('Epoch')\n",
    "plt.ylabel('Accuracy/AUC')\n",
    "plt.ylim([0.5, 1])\n",
    "plt.legend(loc='lower right')\n",
    "plt.show()"
   ]
  },
  {
   "cell_type": "code",
   "execution_count": null,
   "metadata": {
    "id": "FqaKuPWmzHZ_"
   },
   "outputs": [],
   "source": [
    "max_value = max(history['val_accuracy'])\n",
    "print(max_value)\n",
    "max_index = history['val_accuracy'].index(max_value)\n",
    "print(max_index)\n",
    "print(history['accuracy'][max_index])\n",
    "best_checkpoint_path = \"/content/gdrive/MyDrive/eeg_person_identification/checkpoint_cnn_00001/cp-{:04d}.ckpt\".format(max_index)\n",
    "model.load_weights(best_checkpoint_path)"
   ]
  },
  {
   "cell_type": "code",
   "execution_count": null,
   "metadata": {
    "colab": {
     "base_uri": "https://localhost:8080/"
    },
    "id": "qEFM-hLQ8eMb",
    "outputId": "fc386c64-1e96-420e-9b39-0788cf75141b"
   },
   "outputs": [
    {
     "name": "stdout",
     "output_type": "stream",
     "text": [
      "1673/1673 [==============================] - 94s 56ms/step - loss: 0.7814 - accuracy: 0.9580 - auc_2: 0.9889 - false_positives_2: 2141.0000 - false_negatives_1: 2289.0000 - true_positives_1: 51237.0000 - true_negatives: 5778667.0000\n"
     ]
    }
   ],
   "source": [
    "test_loss, test_accuracy, test_auc, FP, FN, TP, TN = model.evaluate(x=test_data,  y=test_label)\n",
    "print(test_loss)\n",
    "print(test_accuracy)"
   ]
  },
  {
   "cell_type": "code",
   "execution_count": null,
   "metadata": {
    "colab": {
     "base_uri": "https://localhost:8080/"
    },
    "id": "pJ0Da6rkf8r9",
    "outputId": "16e48b55-56b7-48b0-d681-f7b2bfb88071"
   },
   "outputs": [
    {
     "name": "stderr",
     "output_type": "stream",
     "text": [
      "100%|██████████| 53526/53526 [49:11<00:00, 18.14it/s]\n"
     ]
    }
   ],
   "source": [
    "leng = test_label.shape[0]\n",
    "\n",
    "i = 0\n",
    "correct = 0\n",
    "wrong = 0\n",
    "\n",
    "preds = list()\n",
    "real = list()\n",
    "\n",
    "with tqdm(total=leng) as pbar:\n",
    "    for sample, label in zip(test_data, test_label):\n",
    "        item = np.expand_dims(sample, axis=0)\n",
    "        #print(item)\n",
    "        #print(item.shape)\n",
    "        out = model.predict(item)\n",
    "        y_pred = np.argmax(out)\n",
    "        out[np.where(out!=np.max(out))] = 0\n",
    "        out[np.where(out==np.max(out))] = 1\n",
    "        y = np.argmax(label)\n",
    "        if y_pred == y:\n",
    "            correct += 1\n",
    "        else:\n",
    "            wrong += 1\n",
    "        #print(y_pred)\n",
    "        #print(y)\n",
    "        real.append(y)\n",
    "        preds.append(y_pred)\n",
    "        pbar.update(1)"
   ]
  },
  {
   "cell_type": "code",
   "execution_count": null,
   "metadata": {
    "colab": {
     "base_uri": "https://localhost:8080/",
     "height": 67
    },
    "id": "5ad3vUqqSH7z",
    "outputId": "75a7f113-c9ed-4828-b9f6-62b36642e0e6"
   },
   "outputs": [
    {
     "name": "stdout",
     "output_type": "stream",
     "text": [
      "53526\n",
      "53526\n"
     ]
    },
    {
     "data": {
      "application/vnd.google.colaboratory.intrinsic+json": {
       "type": "string"
      },
      "text/plain": [
       "'y_pred = np.squeeze(y_pred, axis=1)\\ny_pred = y_pred.astype(int)\\n\\ny_test = label_binarize(y_test, classes=list(range(0, 109)))\\n\\nn_classes = y_test.shape[1]'"
      ]
     },
     "execution_count": 193,
     "metadata": {},
     "output_type": "execute_result"
    }
   ],
   "source": [
    "print(len(preds))\n",
    "print(len(real))\n",
    "\n",
    "y_test = np.empty([1, 1, 109], dtype=int)\n",
    "y_test = np.vstack(real)\n",
    "\n",
    "y_pred = np.empty([1, 1, 109], dtype=int)\n",
    "y_pred = np.vstack(preds)"
   ]
  },
  {
   "cell_type": "code",
   "execution_count": null,
   "metadata": {
    "colab": {
     "base_uri": "https://localhost:8080/"
    },
    "id": "hBvrmWd_vqcB",
    "outputId": "dce25c0a-0f06-4460-dded-03f25189c2e3"
   },
   "outputs": [
    {
     "name": "stdout",
     "output_type": "stream",
     "text": [
      "(53526, 1)\n",
      "(53526, 1)\n",
      "[[66 66]\n",
      " [66 66]\n",
      " [66 66]\n",
      " ...\n",
      " [27 27]\n",
      " [27 27]\n",
      " [27 96]]\n",
      "(53526, 2)\n"
     ]
    }
   ],
   "source": [
    "print(y_test.shape)\n",
    "print(y_pred.shape)\n",
    "\n",
    "results = np.column_stack((y_test, y_pred))\n",
    "print(results)\n",
    "print(results.shape)"
   ]
  },
  {
   "cell_type": "code",
   "execution_count": null,
   "metadata": {
    "colab": {
     "base_uri": "https://localhost:8080/"
    },
    "id": "X4YyeqSEdLcI",
    "outputId": "2a8e96fd-2b4a-4186-ec94-f63a0fb43b17"
   },
   "outputs": [
    {
     "name": "stdout",
     "output_type": "stream",
     "text": [
      "0.01988123006018495\n",
      "0.020980459950640018\n",
      "0.020430845005412486\n"
     ]
    }
   ],
   "source": [
    "from statistics import mean\n",
    "\n",
    "frrs = list(0 for x in range(0, 109))\n",
    "fars = list(0 for x in range(0, 109))\n",
    "#(test, pred)\n",
    "for s in range(0, 109):\n",
    "    #print(\"Class\")\n",
    "    #print(s)\n",
    "    resultsTempTrue  = results[np.where(results[:,0]==s)]  #label \n",
    "    resultsTempFalse = results[np.where(results[:,1]==s)]  #predetti bene\n",
    "    #print(resultsTempFalse)\n",
    "    #print(resultsTempFalse.shape)\n",
    "    cnt4 = resultsTempFalse.shape[0] #numero predetti bene\n",
    "    errors = resultsTempFalse[resultsTempFalse[:,0]!=s]  #predetti male\n",
    "    #print(errors.shape)\n",
    "    #print(errors)\n",
    "    cnt3 = errors.shape[0]  #numero predetti male\n",
    "    cnt  = 0\n",
    "    cnt1 = 0 \n",
    "    #print(\"shape\")\n",
    "    #print(resultsTempTrue.shape[0])\n",
    "    for i in range(0, resultsTempTrue.shape[0]):\n",
    "        cnt1 += 1\n",
    "        if resultsTempTrue[i][0] != resultsTempTrue[i][1]:\n",
    "            cnt += 1\n",
    "    #print(\"cnt1\")\n",
    "    #print(cnt1)\n",
    "    frrTemp = cnt3/cnt1 \n",
    "    frrs.append(frrTemp)\n",
    "\n",
    "    farTemp = cnt3/cnt4\n",
    "    fars.append(farTemp)\n",
    "    #print(frrTemp)\n",
    "    #print(farTemp)\n",
    "\n",
    "FAR_mean = mean(fars)\n",
    "FRR_mean = mean(frrs)\n",
    "eer = (FRR_mean + FAR_mean)/2\n",
    "print(FAR_mean)\n",
    "print(FRR_mean)\n",
    "print(eer)"
   ]
  }
 ],
 "metadata": {
  "colab": {
   "collapsed_sections": [],
   "name": "CNN_eeg_person_identification.ipynb",
   "provenance": []
  },
  "kernelspec": {
   "display_name": "Python 3",
   "language": "python",
   "name": "python3"
  },
  "language_info": {
   "codemirror_mode": {
    "name": "ipython",
    "version": 3
   },
   "file_extension": ".py",
   "mimetype": "text/x-python",
   "name": "python",
   "nbconvert_exporter": "python",
   "pygments_lexer": "ipython3",
   "version": "3.6.9"
  }
 },
 "nbformat": 4,
 "nbformat_minor": 1
}
